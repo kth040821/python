{
  "nbformat": 4,
  "nbformat_minor": 0,
  "metadata": {
    "colab": {
      "provenance": [],
      "authorship_tag": "ABX9TyM5HkkuAwskcmu+lPllVqg9",
      "include_colab_link": true
    },
    "kernelspec": {
      "name": "python3",
      "display_name": "Python 3"
    },
    "language_info": {
      "name": "python"
    }
  },
  "cells": [
    {
      "cell_type": "markdown",
      "metadata": {
        "id": "view-in-github",
        "colab_type": "text"
      },
      "source": [
        "<a href=\"https://colab.research.google.com/github/kth040821/python/blob/main/%EB%B0%91%EC%8B%9C%EB%94%A5_%EC%8B%A4%EC%8A%B5.ipynb\" target=\"_parent\"><img src=\"https://colab.research.google.com/assets/colab-badge.svg\" alt=\"Open In Colab\"/></a>"
      ]
    },
    {
      "cell_type": "code",
      "execution_count": null,
      "metadata": {
        "id": "X35wZ4HJshNp",
        "outputId": "e8cf02d9-9c8d-4766-ce8c-46b32fb27d2a",
        "colab": {
          "base_uri": "https://localhost:8080/"
        }
      },
      "outputs": [
        {
          "output_type": "execute_result",
          "data": {
            "text/plain": [
              "9"
            ]
          },
          "metadata": {},
          "execution_count": 4
        }
      ],
      "source": [
        "#1.3.1 산술연산\n",
        "3**2    #** 거듭제곱"
      ]
    },
    {
      "cell_type": "code",
      "source": [
        "#1.3.2 자료형\n",
        "type('hello')    #int,float,str 정수 실수 문자열"
      ],
      "metadata": {
        "colab": {
          "base_uri": "https://localhost:8080/"
        },
        "id": "dRWsatKFsi4j",
        "outputId": "a1dbe4bd-6c75-4869-fac6-646d7af30b54"
      },
      "execution_count": null,
      "outputs": [
        {
          "output_type": "execute_result",
          "data": {
            "text/plain": [
              "str"
            ]
          },
          "metadata": {},
          "execution_count": 6
        }
      ]
    },
    {
      "cell_type": "code",
      "source": [
        "#1.3.2 변수\n",
        "x=10\n",
        "y=3.1\n",
        "print(x*y)\n",
        "type(x*y)"
      ],
      "metadata": {
        "colab": {
          "base_uri": "https://localhost:8080/"
        },
        "id": "I_-tCdEHsjJN",
        "outputId": "3200f27b-c1b5-494f-ddab-45757fa5b0fe"
      },
      "execution_count": null,
      "outputs": [
        {
          "output_type": "stream",
          "name": "stdout",
          "text": [
            "31.0\n"
          ]
        },
        {
          "output_type": "execute_result",
          "data": {
            "text/plain": [
              "float"
            ]
          },
          "metadata": {},
          "execution_count": 9
        }
      ]
    },
    {
      "cell_type": "code",
      "source": [
        "#1.3.4 리스트\n",
        "a=[1,2,3,4,5]\n",
        "print(a)\n",
        "len(a)    #len()=길이\n",
        "a[4]=100\n",
        "print(a)\n",
        "a[1:3]    #1~3-1 까지\n",
        "a[1:]    #1부터 끝까지\n",
        "a[:3]    #처음부터 3-1까지\n",
        "a[-1]    #-1=마지막 원소"
      ],
      "metadata": {
        "colab": {
          "base_uri": "https://localhost:8080/"
        },
        "id": "URArdMQcsjME",
        "outputId": "8be30b96-f5ff-48b9-89ed-29aad1b99ee3"
      },
      "execution_count": null,
      "outputs": [
        {
          "output_type": "stream",
          "name": "stdout",
          "text": [
            "[1, 2, 3, 4, 5]\n",
            "[1, 2, 3, 4, 100]\n"
          ]
        },
        {
          "output_type": "execute_result",
          "data": {
            "text/plain": [
              "100"
            ]
          },
          "metadata": {},
          "execution_count": 17
        }
      ]
    },
    {
      "cell_type": "code",
      "source": [
        "#1.3.5 딕셔너리\n",
        "me={'height':180}\n",
        "me['height']\n",
        "me['weight']=70\n",
        "print(me)"
      ],
      "metadata": {
        "colab": {
          "base_uri": "https://localhost:8080/"
        },
        "id": "ar-spO7SsjRf",
        "outputId": "89c497af-c160-41c9-888f-baf8e35e3246"
      },
      "execution_count": null,
      "outputs": [
        {
          "output_type": "stream",
          "name": "stdout",
          "text": [
            "{'height': 180, 'weight': 70}\n"
          ]
        }
      ]
    },
    {
      "cell_type": "code",
      "source": [
        "#1.3.6 bool\n",
        "hungry =True\n",
        "sleepy=False\n",
        "type(hungry)\n",
        "not hungry\n",
        "hungry and sleepy\n",
        "hungry or sleepy"
      ],
      "metadata": {
        "colab": {
          "base_uri": "https://localhost:8080/"
        },
        "id": "bKgFE1M8sjUS",
        "outputId": "a7ff9afb-cb22-49ec-d35e-919683945fc1"
      },
      "execution_count": null,
      "outputs": [
        {
          "output_type": "execute_result",
          "data": {
            "text/plain": [
              "True"
            ]
          },
          "metadata": {},
          "execution_count": 7
        }
      ]
    },
    {
      "cell_type": "code",
      "source": [
        "#1.3.7 if문\n",
        "hungry=True\n",
        "if hungry:\n",
        "  print(\"I'm hungry\")\n",
        "hungry=False\n",
        "if hungry:\n",
        "  print(\"I'm hungry\")\n",
        "else:\n",
        "  print(\"I'm not hungry\")\n",
        "  print(\"I'm sleepy\")"
      ],
      "metadata": {
        "colab": {
          "base_uri": "https://localhost:8080/"
        },
        "id": "5rZNkIJ2sjXO",
        "outputId": "231cf5b8-3090-4f43-d51f-ac5bfe788471"
      },
      "execution_count": null,
      "outputs": [
        {
          "output_type": "stream",
          "name": "stdout",
          "text": [
            "I'm hungry\n",
            "I'm not hungry\n",
            "I'm sleepy\n"
          ]
        }
      ]
    },
    {
      "cell_type": "code",
      "source": [
        "#1.3.8 for문\n",
        "for i in[1,2,3]:\n",
        "  print(i)"
      ],
      "metadata": {
        "colab": {
          "base_uri": "https://localhost:8080/"
        },
        "id": "FDzt4RJ-sjaM",
        "outputId": "71883b3b-4cf3-4edb-b951-93482c53640a"
      },
      "execution_count": null,
      "outputs": [
        {
          "output_type": "stream",
          "name": "stdout",
          "text": [
            "1\n",
            "2\n",
            "3\n"
          ]
        }
      ]
    },
    {
      "cell_type": "code",
      "source": [
        "#1.3.9 함수\n",
        "def hello():\n",
        "  print(\"Hello World!\")\n",
        "hello()\n",
        "def hello(object):\n",
        "  print(\"Hello \" + object + \"!\")\n",
        "hello(\"python\")"
      ],
      "metadata": {
        "colab": {
          "base_uri": "https://localhost:8080/"
        },
        "id": "qGfZzhzksjdB",
        "outputId": "7926c170-1279-43e3-84f6-0150f5683753"
      },
      "execution_count": null,
      "outputs": [
        {
          "output_type": "stream",
          "name": "stdout",
          "text": [
            "Hello World!\n",
            "Hellopython!\n"
          ]
        }
      ]
    },
    {
      "cell_type": "code",
      "source": [],
      "metadata": {
        "id": "x1AlEQ3vsjgA"
      },
      "execution_count": null,
      "outputs": []
    },
    {
      "cell_type": "code",
      "source": [],
      "metadata": {
        "id": "vB08Bu21sjid"
      },
      "execution_count": null,
      "outputs": []
    },
    {
      "cell_type": "code",
      "source": [],
      "metadata": {
        "id": "pMf_z9PEsjlM"
      },
      "execution_count": null,
      "outputs": []
    },
    {
      "cell_type": "code",
      "source": [],
      "metadata": {
        "id": "EdGuF1Fdsjnw"
      },
      "execution_count": null,
      "outputs": []
    },
    {
      "cell_type": "code",
      "source": [],
      "metadata": {
        "id": "NQZpMW8nsjqQ"
      },
      "execution_count": null,
      "outputs": []
    },
    {
      "cell_type": "code",
      "source": [],
      "metadata": {
        "id": "hzyMChnTsjvs"
      },
      "execution_count": null,
      "outputs": []
    },
    {
      "cell_type": "markdown",
      "source": [],
      "metadata": {
        "id": "-bSRrK_SsjyO"
      }
    }
  ]
}